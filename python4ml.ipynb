{
  "nbformat": 4,
  "nbformat_minor": 0,
  "metadata": {
    "colab": {
      "provenance": [],
      "authorship_tag": "ABX9TyOxEBACu/6O/+MCS5poXPZ5",
      "include_colab_link": true
    },
    "kernelspec": {
      "name": "python3",
      "display_name": "Python 3"
    },
    "language_info": {
      "name": "python"
    }
  },
  "cells": [
    {
      "cell_type": "markdown",
      "metadata": {
        "id": "view-in-github",
        "colab_type": "text"
      },
      "source": [
        "<a href=\"https://colab.research.google.com/github/JohnMakgakgaDS/python4ml/blob/main/python4ml.ipynb\" target=\"_parent\"><img src=\"https://colab.research.google.com/assets/colab-badge.svg\" alt=\"Open In Colab\"/></a>"
      ]
    },
    {
      "cell_type": "code",
      "source": [
        "from google.colab import files\n",
        "uploaded = files.upload()"
      ],
      "metadata": {
        "colab": {
          "base_uri": "https://localhost:8080/",
          "height": 73
        },
        "id": "4q0bJXWN6MtY",
        "outputId": "0379c93a-ab7b-4b46-f716-76b35ed48eac"
      },
      "execution_count": 1,
      "outputs": [
        {
          "output_type": "display_data",
          "data": {
            "text/plain": [
              "<IPython.core.display.HTML object>"
            ],
            "text/html": [
              "\n",
              "     <input type=\"file\" id=\"files-92f93975-d448-4526-b7c3-4f1a48607284\" name=\"files[]\" multiple disabled\n",
              "        style=\"border:none\" />\n",
              "     <output id=\"result-92f93975-d448-4526-b7c3-4f1a48607284\">\n",
              "      Upload widget is only available when the cell has been executed in the\n",
              "      current browser session. Please rerun this cell to enable.\n",
              "      </output>\n",
              "      <script>// Copyright 2017 Google LLC\n",
              "//\n",
              "// Licensed under the Apache License, Version 2.0 (the \"License\");\n",
              "// you may not use this file except in compliance with the License.\n",
              "// You may obtain a copy of the License at\n",
              "//\n",
              "//      http://www.apache.org/licenses/LICENSE-2.0\n",
              "//\n",
              "// Unless required by applicable law or agreed to in writing, software\n",
              "// distributed under the License is distributed on an \"AS IS\" BASIS,\n",
              "// WITHOUT WARRANTIES OR CONDITIONS OF ANY KIND, either express or implied.\n",
              "// See the License for the specific language governing permissions and\n",
              "// limitations under the License.\n",
              "\n",
              "/**\n",
              " * @fileoverview Helpers for google.colab Python module.\n",
              " */\n",
              "(function(scope) {\n",
              "function span(text, styleAttributes = {}) {\n",
              "  const element = document.createElement('span');\n",
              "  element.textContent = text;\n",
              "  for (const key of Object.keys(styleAttributes)) {\n",
              "    element.style[key] = styleAttributes[key];\n",
              "  }\n",
              "  return element;\n",
              "}\n",
              "\n",
              "// Max number of bytes which will be uploaded at a time.\n",
              "const MAX_PAYLOAD_SIZE = 100 * 1024;\n",
              "\n",
              "function _uploadFiles(inputId, outputId) {\n",
              "  const steps = uploadFilesStep(inputId, outputId);\n",
              "  const outputElement = document.getElementById(outputId);\n",
              "  // Cache steps on the outputElement to make it available for the next call\n",
              "  // to uploadFilesContinue from Python.\n",
              "  outputElement.steps = steps;\n",
              "\n",
              "  return _uploadFilesContinue(outputId);\n",
              "}\n",
              "\n",
              "// This is roughly an async generator (not supported in the browser yet),\n",
              "// where there are multiple asynchronous steps and the Python side is going\n",
              "// to poll for completion of each step.\n",
              "// This uses a Promise to block the python side on completion of each step,\n",
              "// then passes the result of the previous step as the input to the next step.\n",
              "function _uploadFilesContinue(outputId) {\n",
              "  const outputElement = document.getElementById(outputId);\n",
              "  const steps = outputElement.steps;\n",
              "\n",
              "  const next = steps.next(outputElement.lastPromiseValue);\n",
              "  return Promise.resolve(next.value.promise).then((value) => {\n",
              "    // Cache the last promise value to make it available to the next\n",
              "    // step of the generator.\n",
              "    outputElement.lastPromiseValue = value;\n",
              "    return next.value.response;\n",
              "  });\n",
              "}\n",
              "\n",
              "/**\n",
              " * Generator function which is called between each async step of the upload\n",
              " * process.\n",
              " * @param {string} inputId Element ID of the input file picker element.\n",
              " * @param {string} outputId Element ID of the output display.\n",
              " * @return {!Iterable<!Object>} Iterable of next steps.\n",
              " */\n",
              "function* uploadFilesStep(inputId, outputId) {\n",
              "  const inputElement = document.getElementById(inputId);\n",
              "  inputElement.disabled = false;\n",
              "\n",
              "  const outputElement = document.getElementById(outputId);\n",
              "  outputElement.innerHTML = '';\n",
              "\n",
              "  const pickedPromise = new Promise((resolve) => {\n",
              "    inputElement.addEventListener('change', (e) => {\n",
              "      resolve(e.target.files);\n",
              "    });\n",
              "  });\n",
              "\n",
              "  const cancel = document.createElement('button');\n",
              "  inputElement.parentElement.appendChild(cancel);\n",
              "  cancel.textContent = 'Cancel upload';\n",
              "  const cancelPromise = new Promise((resolve) => {\n",
              "    cancel.onclick = () => {\n",
              "      resolve(null);\n",
              "    };\n",
              "  });\n",
              "\n",
              "  // Wait for the user to pick the files.\n",
              "  const files = yield {\n",
              "    promise: Promise.race([pickedPromise, cancelPromise]),\n",
              "    response: {\n",
              "      action: 'starting',\n",
              "    }\n",
              "  };\n",
              "\n",
              "  cancel.remove();\n",
              "\n",
              "  // Disable the input element since further picks are not allowed.\n",
              "  inputElement.disabled = true;\n",
              "\n",
              "  if (!files) {\n",
              "    return {\n",
              "      response: {\n",
              "        action: 'complete',\n",
              "      }\n",
              "    };\n",
              "  }\n",
              "\n",
              "  for (const file of files) {\n",
              "    const li = document.createElement('li');\n",
              "    li.append(span(file.name, {fontWeight: 'bold'}));\n",
              "    li.append(span(\n",
              "        `(${file.type || 'n/a'}) - ${file.size} bytes, ` +\n",
              "        `last modified: ${\n",
              "            file.lastModifiedDate ? file.lastModifiedDate.toLocaleDateString() :\n",
              "                                    'n/a'} - `));\n",
              "    const percent = span('0% done');\n",
              "    li.appendChild(percent);\n",
              "\n",
              "    outputElement.appendChild(li);\n",
              "\n",
              "    const fileDataPromise = new Promise((resolve) => {\n",
              "      const reader = new FileReader();\n",
              "      reader.onload = (e) => {\n",
              "        resolve(e.target.result);\n",
              "      };\n",
              "      reader.readAsArrayBuffer(file);\n",
              "    });\n",
              "    // Wait for the data to be ready.\n",
              "    let fileData = yield {\n",
              "      promise: fileDataPromise,\n",
              "      response: {\n",
              "        action: 'continue',\n",
              "      }\n",
              "    };\n",
              "\n",
              "    // Use a chunked sending to avoid message size limits. See b/62115660.\n",
              "    let position = 0;\n",
              "    do {\n",
              "      const length = Math.min(fileData.byteLength - position, MAX_PAYLOAD_SIZE);\n",
              "      const chunk = new Uint8Array(fileData, position, length);\n",
              "      position += length;\n",
              "\n",
              "      const base64 = btoa(String.fromCharCode.apply(null, chunk));\n",
              "      yield {\n",
              "        response: {\n",
              "          action: 'append',\n",
              "          file: file.name,\n",
              "          data: base64,\n",
              "        },\n",
              "      };\n",
              "\n",
              "      let percentDone = fileData.byteLength === 0 ?\n",
              "          100 :\n",
              "          Math.round((position / fileData.byteLength) * 100);\n",
              "      percent.textContent = `${percentDone}% done`;\n",
              "\n",
              "    } while (position < fileData.byteLength);\n",
              "  }\n",
              "\n",
              "  // All done.\n",
              "  yield {\n",
              "    response: {\n",
              "      action: 'complete',\n",
              "    }\n",
              "  };\n",
              "}\n",
              "\n",
              "scope.google = scope.google || {};\n",
              "scope.google.colab = scope.google.colab || {};\n",
              "scope.google.colab._files = {\n",
              "  _uploadFiles,\n",
              "  _uploadFilesContinue,\n",
              "};\n",
              "})(self);\n",
              "</script> "
            ]
          },
          "metadata": {}
        },
        {
          "output_type": "stream",
          "name": "stdout",
          "text": [
            "Saving FoodBalanceSheets_E_Africa_NOFLAG.csv to FoodBalanceSheets_E_Africa_NOFLAG.csv\n"
          ]
        }
      ]
    },
    {
      "cell_type": "code",
      "source": [
        "import pandas as pd"
      ],
      "metadata": {
        "id": "rQ7iTfhw4bFi"
      },
      "execution_count": 2,
      "outputs": []
    },
    {
      "cell_type": "code",
      "source": [
        "df = pd.read_csv(\"FoodBalanceSheets_E_Africa_NOFLAG.csv\", encoding = \"latin-1\" )"
      ],
      "metadata": {
        "id": "wVW0tRP27WIY"
      },
      "execution_count": 3,
      "outputs": []
    },
    {
      "cell_type": "code",
      "source": [
        "df.head()"
      ],
      "metadata": {
        "id": "ldcHIlSk7xjn",
        "outputId": "7302aa3d-4921-4315-ed1e-d16568560da9",
        "colab": {
          "base_uri": "https://localhost:8080/",
          "height": 206
        }
      },
      "execution_count": 4,
      "outputs": [
        {
          "output_type": "execute_result",
          "data": {
            "text/plain": [
              "   Area Code     Area  Item Code         Item  Element Code  \\\n",
              "0          4  Algeria       2501   Population           511   \n",
              "1          4  Algeria       2501   Population          5301   \n",
              "2          4  Algeria       2901  Grand Total           664   \n",
              "3          4  Algeria       2901  Grand Total           674   \n",
              "4          4  Algeria       2901  Grand Total           684   \n",
              "\n",
              "                                  Element             Unit     Y2014  \\\n",
              "0           Total Population - Both sexes     1000 persons  38924.00   \n",
              "1                Domestic supply quantity      1000 tonnes      0.00   \n",
              "2           Food supply (kcal/capita/day)  kcal/capita/day   3377.00   \n",
              "3  Protein supply quantity (g/capita/day)     g/capita/day     94.90   \n",
              "4      Fat supply quantity (g/capita/day)     g/capita/day     80.06   \n",
              "\n",
              "      Y2015     Y2016     Y2017     Y2018  \n",
              "0  39728.00  40551.00  41389.00  42228.00  \n",
              "1      0.00      0.00      0.00      0.00  \n",
              "2   3379.00   3372.00   3341.00   3322.00  \n",
              "3     94.35     94.72     92.82     91.83  \n",
              "4     79.36     77.40     80.19     77.28  "
            ],
            "text/html": [
              "\n",
              "  <div id=\"df-64cc6f1a-4e8b-438c-bc13-bc6a4ed45356\">\n",
              "    <div class=\"colab-df-container\">\n",
              "      <div>\n",
              "<style scoped>\n",
              "    .dataframe tbody tr th:only-of-type {\n",
              "        vertical-align: middle;\n",
              "    }\n",
              "\n",
              "    .dataframe tbody tr th {\n",
              "        vertical-align: top;\n",
              "    }\n",
              "\n",
              "    .dataframe thead th {\n",
              "        text-align: right;\n",
              "    }\n",
              "</style>\n",
              "<table border=\"1\" class=\"dataframe\">\n",
              "  <thead>\n",
              "    <tr style=\"text-align: right;\">\n",
              "      <th></th>\n",
              "      <th>Area Code</th>\n",
              "      <th>Area</th>\n",
              "      <th>Item Code</th>\n",
              "      <th>Item</th>\n",
              "      <th>Element Code</th>\n",
              "      <th>Element</th>\n",
              "      <th>Unit</th>\n",
              "      <th>Y2014</th>\n",
              "      <th>Y2015</th>\n",
              "      <th>Y2016</th>\n",
              "      <th>Y2017</th>\n",
              "      <th>Y2018</th>\n",
              "    </tr>\n",
              "  </thead>\n",
              "  <tbody>\n",
              "    <tr>\n",
              "      <th>0</th>\n",
              "      <td>4</td>\n",
              "      <td>Algeria</td>\n",
              "      <td>2501</td>\n",
              "      <td>Population</td>\n",
              "      <td>511</td>\n",
              "      <td>Total Population - Both sexes</td>\n",
              "      <td>1000 persons</td>\n",
              "      <td>38924.00</td>\n",
              "      <td>39728.00</td>\n",
              "      <td>40551.00</td>\n",
              "      <td>41389.00</td>\n",
              "      <td>42228.00</td>\n",
              "    </tr>\n",
              "    <tr>\n",
              "      <th>1</th>\n",
              "      <td>4</td>\n",
              "      <td>Algeria</td>\n",
              "      <td>2501</td>\n",
              "      <td>Population</td>\n",
              "      <td>5301</td>\n",
              "      <td>Domestic supply quantity</td>\n",
              "      <td>1000 tonnes</td>\n",
              "      <td>0.00</td>\n",
              "      <td>0.00</td>\n",
              "      <td>0.00</td>\n",
              "      <td>0.00</td>\n",
              "      <td>0.00</td>\n",
              "    </tr>\n",
              "    <tr>\n",
              "      <th>2</th>\n",
              "      <td>4</td>\n",
              "      <td>Algeria</td>\n",
              "      <td>2901</td>\n",
              "      <td>Grand Total</td>\n",
              "      <td>664</td>\n",
              "      <td>Food supply (kcal/capita/day)</td>\n",
              "      <td>kcal/capita/day</td>\n",
              "      <td>3377.00</td>\n",
              "      <td>3379.00</td>\n",
              "      <td>3372.00</td>\n",
              "      <td>3341.00</td>\n",
              "      <td>3322.00</td>\n",
              "    </tr>\n",
              "    <tr>\n",
              "      <th>3</th>\n",
              "      <td>4</td>\n",
              "      <td>Algeria</td>\n",
              "      <td>2901</td>\n",
              "      <td>Grand Total</td>\n",
              "      <td>674</td>\n",
              "      <td>Protein supply quantity (g/capita/day)</td>\n",
              "      <td>g/capita/day</td>\n",
              "      <td>94.90</td>\n",
              "      <td>94.35</td>\n",
              "      <td>94.72</td>\n",
              "      <td>92.82</td>\n",
              "      <td>91.83</td>\n",
              "    </tr>\n",
              "    <tr>\n",
              "      <th>4</th>\n",
              "      <td>4</td>\n",
              "      <td>Algeria</td>\n",
              "      <td>2901</td>\n",
              "      <td>Grand Total</td>\n",
              "      <td>684</td>\n",
              "      <td>Fat supply quantity (g/capita/day)</td>\n",
              "      <td>g/capita/day</td>\n",
              "      <td>80.06</td>\n",
              "      <td>79.36</td>\n",
              "      <td>77.40</td>\n",
              "      <td>80.19</td>\n",
              "      <td>77.28</td>\n",
              "    </tr>\n",
              "  </tbody>\n",
              "</table>\n",
              "</div>\n",
              "      <button class=\"colab-df-convert\" onclick=\"convertToInteractive('df-64cc6f1a-4e8b-438c-bc13-bc6a4ed45356')\"\n",
              "              title=\"Convert this dataframe to an interactive table.\"\n",
              "              style=\"display:none;\">\n",
              "        \n",
              "  <svg xmlns=\"http://www.w3.org/2000/svg\" height=\"24px\"viewBox=\"0 0 24 24\"\n",
              "       width=\"24px\">\n",
              "    <path d=\"M0 0h24v24H0V0z\" fill=\"none\"/>\n",
              "    <path d=\"M18.56 5.44l.94 2.06.94-2.06 2.06-.94-2.06-.94-.94-2.06-.94 2.06-2.06.94zm-11 1L8.5 8.5l.94-2.06 2.06-.94-2.06-.94L8.5 2.5l-.94 2.06-2.06.94zm10 10l.94 2.06.94-2.06 2.06-.94-2.06-.94-.94-2.06-.94 2.06-2.06.94z\"/><path d=\"M17.41 7.96l-1.37-1.37c-.4-.4-.92-.59-1.43-.59-.52 0-1.04.2-1.43.59L10.3 9.45l-7.72 7.72c-.78.78-.78 2.05 0 2.83L4 21.41c.39.39.9.59 1.41.59.51 0 1.02-.2 1.41-.59l7.78-7.78 2.81-2.81c.8-.78.8-2.07 0-2.86zM5.41 20L4 18.59l7.72-7.72 1.47 1.35L5.41 20z\"/>\n",
              "  </svg>\n",
              "      </button>\n",
              "      \n",
              "  <style>\n",
              "    .colab-df-container {\n",
              "      display:flex;\n",
              "      flex-wrap:wrap;\n",
              "      gap: 12px;\n",
              "    }\n",
              "\n",
              "    .colab-df-convert {\n",
              "      background-color: #E8F0FE;\n",
              "      border: none;\n",
              "      border-radius: 50%;\n",
              "      cursor: pointer;\n",
              "      display: none;\n",
              "      fill: #1967D2;\n",
              "      height: 32px;\n",
              "      padding: 0 0 0 0;\n",
              "      width: 32px;\n",
              "    }\n",
              "\n",
              "    .colab-df-convert:hover {\n",
              "      background-color: #E2EBFA;\n",
              "      box-shadow: 0px 1px 2px rgba(60, 64, 67, 0.3), 0px 1px 3px 1px rgba(60, 64, 67, 0.15);\n",
              "      fill: #174EA6;\n",
              "    }\n",
              "\n",
              "    [theme=dark] .colab-df-convert {\n",
              "      background-color: #3B4455;\n",
              "      fill: #D2E3FC;\n",
              "    }\n",
              "\n",
              "    [theme=dark] .colab-df-convert:hover {\n",
              "      background-color: #434B5C;\n",
              "      box-shadow: 0px 1px 3px 1px rgba(0, 0, 0, 0.15);\n",
              "      filter: drop-shadow(0px 1px 2px rgba(0, 0, 0, 0.3));\n",
              "      fill: #FFFFFF;\n",
              "    }\n",
              "  </style>\n",
              "\n",
              "      <script>\n",
              "        const buttonEl =\n",
              "          document.querySelector('#df-64cc6f1a-4e8b-438c-bc13-bc6a4ed45356 button.colab-df-convert');\n",
              "        buttonEl.style.display =\n",
              "          google.colab.kernel.accessAllowed ? 'block' : 'none';\n",
              "\n",
              "        async function convertToInteractive(key) {\n",
              "          const element = document.querySelector('#df-64cc6f1a-4e8b-438c-bc13-bc6a4ed45356');\n",
              "          const dataTable =\n",
              "            await google.colab.kernel.invokeFunction('convertToInteractive',\n",
              "                                                     [key], {});\n",
              "          if (!dataTable) return;\n",
              "\n",
              "          const docLinkHtml = 'Like what you see? Visit the ' +\n",
              "            '<a target=\"_blank\" href=https://colab.research.google.com/notebooks/data_table.ipynb>data table notebook</a>'\n",
              "            + ' to learn more about interactive tables.';\n",
              "          element.innerHTML = '';\n",
              "          dataTable['output_type'] = 'display_data';\n",
              "          await google.colab.output.renderOutput(dataTable, element);\n",
              "          const docLink = document.createElement('div');\n",
              "          docLink.innerHTML = docLinkHtml;\n",
              "          element.appendChild(docLink);\n",
              "        }\n",
              "      </script>\n",
              "    </div>\n",
              "  </div>\n",
              "  "
            ]
          },
          "metadata": {},
          "execution_count": 4
        }
      ]
    },
    {
      "cell_type": "code",
      "source": [
        "df.shape"
      ],
      "metadata": {
        "colab": {
          "base_uri": "https://localhost:8080/"
        },
        "id": "tUKAA9W1iTu0",
        "outputId": "55b266f5-5406-4dfa-a780-1ec4f8069cde"
      },
      "execution_count": 5,
      "outputs": [
        {
          "output_type": "execute_result",
          "data": {
            "text/plain": [
              "(60943, 12)"
            ]
          },
          "metadata": {},
          "execution_count": 5
        }
      ]
    },
    {
      "cell_type": "markdown",
      "source": [
        "What is the mean and standard deviation across the whole dataset for the year 2017 to 2 decimal places?"
      ],
      "metadata": {
        "id": "jLoXIaN-EWrb"
      }
    },
    {
      "cell_type": "code",
      "source": [
        "df['Y2017'].mean()\n"
      ],
      "metadata": {
        "colab": {
          "base_uri": "https://localhost:8080/"
        },
        "id": "xRPDC5k1i9hV",
        "outputId": "6c269bad-a1de-49a3-c937-f4414f81c94a"
      },
      "execution_count": 6,
      "outputs": [
        {
          "output_type": "execute_result",
          "data": {
            "text/plain": [
              "140.9177648602722"
            ]
          },
          "metadata": {},
          "execution_count": 6
        }
      ]
    },
    {
      "cell_type": "code",
      "source": [
        "df['Y2017'].std()"
      ],
      "metadata": {
        "colab": {
          "base_uri": "https://localhost:8080/"
        },
        "id": "B5iRGrwYjanV",
        "outputId": "9ff266b0-0150-4183-ef2b-b7357a546ae1"
      },
      "execution_count": 7,
      "outputs": [
        {
          "output_type": "execute_result",
          "data": {
            "text/plain": [
              "1671.8623590567995"
            ]
          },
          "metadata": {},
          "execution_count": 7
        }
      ]
    },
    {
      "cell_type": "markdown",
      "source": [
        "What would be the output for?\n",
        "\n"
      ],
      "metadata": {
        "id": "4kwrli_vD0zd"
      }
    },
    {
      "cell_type": "code",
      "source": [
        "S = [['him', 'sell'], [90, 28, 43]]"
      ],
      "metadata": {
        "id": "dA50AsrgD5dE"
      },
      "execution_count": 16,
      "outputs": []
    },
    {
      "cell_type": "code",
      "source": [
        "S[0][1][1]"
      ],
      "metadata": {
        "colab": {
          "base_uri": "https://localhost:8080/",
          "height": 35
        },
        "id": "GYaP2ihBEFaK",
        "outputId": "2c199705-3124-454b-e13b-ebd643226966"
      },
      "execution_count": 17,
      "outputs": [
        {
          "output_type": "execute_result",
          "data": {
            "text/plain": [
              "'e'"
            ],
            "application/vnd.google.colaboratory.intrinsic+json": {
              "type": "string"
            }
          },
          "metadata": {},
          "execution_count": 17
        }
      ]
    },
    {
      "cell_type": "markdown",
      "source": [
        "Which year had the least correlation with ‘Element Code’?"
      ],
      "metadata": {
        "id": "PAVUwJW8E_gD"
      }
    },
    {
      "cell_type": "code",
      "source": [
        "print(df['Element Code'].corr(df['Y2014']))"
      ],
      "metadata": {
        "id": "sKuHKSROFDg8",
        "colab": {
          "base_uri": "https://localhost:8080/"
        },
        "outputId": "f91de059-521f-4c5c-b134-53fb936b0a63"
      },
      "execution_count": 10,
      "outputs": [
        {
          "output_type": "stream",
          "name": "stdout",
          "text": [
            "0.024456819495221754\n"
          ]
        }
      ]
    },
    {
      "cell_type": "code",
      "source": [
        "print(df['Element Code'].corr(df['Y2015']))"
      ],
      "metadata": {
        "colab": {
          "base_uri": "https://localhost:8080/"
        },
        "id": "iNta_pdmFUgt",
        "outputId": "b32aa316-e94d-46b3-a2eb-13cda4bf7afc"
      },
      "execution_count": 11,
      "outputs": [
        {
          "output_type": "stream",
          "name": "stdout",
          "text": [
            "0.023889199301639956\n"
          ]
        }
      ]
    },
    {
      "cell_type": "code",
      "source": [
        "print(df['Element Code'].corr(df['Y2016']))"
      ],
      "metadata": {
        "colab": {
          "base_uri": "https://localhost:8080/"
        },
        "id": "JhJ6MfrVBiTr",
        "outputId": "b1fa76e4-2ed2-4803-c9e8-370afd200a7c"
      },
      "execution_count": 12,
      "outputs": [
        {
          "output_type": "stream",
          "name": "stdout",
          "text": [
            "0.023443997584961424\n"
          ]
        }
      ]
    },
    {
      "cell_type": "code",
      "source": [
        "print(df['Element Code'].corr(df['Y2017']))"
      ],
      "metadata": {
        "colab": {
          "base_uri": "https://localhost:8080/"
        },
        "id": "neFWTTRTBnOW",
        "outputId": "27bf7946-e038-4703-bea7-c1249eb72d0b"
      },
      "execution_count": 13,
      "outputs": [
        {
          "output_type": "stream",
          "name": "stdout",
          "text": [
            "0.02425400776004575\n"
          ]
        }
      ]
    },
    {
      "cell_type": "code",
      "source": [
        "print(df['Element Code'].corr(df['Y2018']))"
      ],
      "metadata": {
        "colab": {
          "base_uri": "https://localhost:8080/"
        },
        "id": "s6XoZrLiBpsw",
        "outputId": "5a160669-726c-4931-b1fd-c9192fb48428"
      },
      "execution_count": 14,
      "outputs": [
        {
          "output_type": "stream",
          "name": "stdout",
          "text": [
            "0.02427857195351955\n"
          ]
        }
      ]
    },
    {
      "cell_type": "markdown",
      "source": [
        "Perform a groupby operation on ‘Element’.  What is the total number of the sum of Processing in 2017?"
      ],
      "metadata": {
        "id": "EOJaRpRTEwZY"
      }
    },
    {
      "cell_type": "code",
      "source": [
        "print(df.groupby('Element')['Y2017'].sum())"
      ],
      "metadata": {
        "colab": {
          "base_uri": "https://localhost:8080/"
        },
        "id": "J5Pp4cR7Bslu",
        "outputId": "f368b535-3621-425e-91b1-c3c0877bd2a2"
      },
      "execution_count": 20,
      "outputs": [
        {
          "output_type": "stream",
          "name": "stdout",
          "text": [
            "Element\n",
            "Domestic supply quantity                  2088198.10\n",
            "Export Quantity                            182338.80\n",
            "Fat supply quantity (g/capita/day)          10253.84\n",
            "Feed                                       223705.68\n",
            "Food                                      1258888.28\n",
            "Food supply (kcal/capita/day)              454681.00\n",
            "Food supply quantity (kg/capita/yr)         48690.04\n",
            "Import Quantity                            294559.09\n",
            "Losses                                     160614.00\n",
            "Other uses (non-food)                       91645.97\n",
            "Processing                                 292836.00\n",
            "Production                                2030056.89\n",
            "Protein supply quantity (g/capita/day)      11842.45\n",
            "Residuals                                   35500.00\n",
            "Seed                                        24870.14\n",
            "Stock Variation                             54316.91\n",
            "Total Population - Both sexes             1112641.00\n",
            "Tourist consumption                            91.00\n",
            "Name: Y2017, dtype: float64\n"
          ]
        }
      ]
    },
    {
      "cell_type": "markdown",
      "source": [
        "Given the following python code, what would the output of the code give?"
      ],
      "metadata": {
        "id": "HPyzRgV4GQhO"
      }
    },
    {
      "cell_type": "code",
      "source": [
        "my_tuppy = (1,2,5,8)"
      ],
      "metadata": {
        "id": "vqtYYPYKFATS"
      },
      "execution_count": 21,
      "outputs": []
    },
    {
      "cell_type": "code",
      "source": [
        "my_tuppy[2] = 6"
      ],
      "metadata": {
        "colab": {
          "base_uri": "https://localhost:8080/",
          "height": 165
        },
        "id": "hIF-dBP-HYoa",
        "outputId": "ac19ecef-57df-40eb-814e-f49beb63f1cb"
      },
      "execution_count": 22,
      "outputs": [
        {
          "output_type": "error",
          "ename": "TypeError",
          "evalue": "ignored",
          "traceback": [
            "\u001b[0;31m---------------------------------------------------------------------------\u001b[0m",
            "\u001b[0;31mTypeError\u001b[0m                                 Traceback (most recent call last)",
            "\u001b[0;32m<ipython-input-22-e0cfa6830280>\u001b[0m in \u001b[0;36m<module>\u001b[0;34m\u001b[0m\n\u001b[0;32m----> 1\u001b[0;31m \u001b[0mmy_tuppy\u001b[0m\u001b[0;34m[\u001b[0m\u001b[0;36m2\u001b[0m\u001b[0;34m]\u001b[0m \u001b[0;34m=\u001b[0m \u001b[0;36m6\u001b[0m\u001b[0;34m\u001b[0m\u001b[0;34m\u001b[0m\u001b[0m\n\u001b[0m",
            "\u001b[0;31mTypeError\u001b[0m: 'tuple' object does not support item assignment"
          ]
        }
      ]
    },
    {
      "cell_type": "markdown",
      "source": [
        "Select columns ‘Y2017’ and ‘Area’, Perform a groupby operation on ‘Area’.  Which of these Areas had the 7th lowest sum in 2017?"
      ],
      "metadata": {
        "id": "1w1Y1077IBRa"
      }
    },
    {
      "cell_type": "code",
      "source": [
        "print(df.groupby('Area')['Y2017'].sum())"
      ],
      "metadata": {
        "colab": {
          "base_uri": "https://localhost:8080/"
        },
        "id": "ltpqx0MWID5K",
        "outputId": "56618bfa-2f47-4232-a7f9-b65aeeeefc61"
      },
      "execution_count": 23,
      "outputs": [
        {
          "output_type": "stream",
          "name": "stdout",
          "text": [
            "Area\n",
            "Algeria                         325644.27\n",
            "Angola                          229159.57\n",
            "Benin                           124771.22\n",
            "Botswana                         22101.30\n",
            "Burkina Faso                    101855.07\n",
            "Cabo Verde                       14650.74\n",
            "Cameroon                        232030.43\n",
            "Central African Republic         29937.00\n",
            "Chad                             71594.68\n",
            "Comoros                             59.84\n",
            "Congo                            41181.68\n",
            "Côte d'Ivoire                   224599.01\n",
            "Djibouti                         22729.91\n",
            "Egypt                           866379.92\n",
            "Eswatini                         54343.33\n",
            "Ethiopia                        448683.76\n",
            "Ethiopia PDR                         0.00\n",
            "Gabon                            27979.64\n",
            "Gambia                           23154.18\n",
            "Ghana                           337599.06\n",
            "Guinea                           98138.87\n",
            "Guinea-Bissau                    19102.77\n",
            "Kenya                           264660.66\n",
            "Lesotho                          21267.96\n",
            "Liberia                          29342.20\n",
            "Madagascar                      131197.73\n",
            "Malawi                          181098.71\n",
            "Mali                            149928.33\n",
            "Mauritania                      156665.46\n",
            "Mauritius                        51114.83\n",
            "Morocco                         388495.36\n",
            "Mozambique                      161407.98\n",
            "Namibia                          29874.89\n",
            "Niger                           126707.58\n",
            "Nigeria                        1483268.23\n",
            "Rwanda                           73663.69\n",
            "Sao Tome and Principe            12662.63\n",
            "Senegal                          95681.15\n",
            "Seychelles                         442.34\n",
            "Sierra Leone                     55311.33\n",
            "South Africa                    517590.54\n",
            "Sudan                           239931.92\n",
            "Sudan (former)                       0.00\n",
            "Togo                             49841.88\n",
            "Tunisia                         124167.20\n",
            "Uganda                          213950.38\n",
            "United Republic of Tanzania     322616.85\n",
            "Zambia                          103223.77\n",
            "Zimbabwe                         75919.34\n",
            "Name: Y2017, dtype: float64\n"
          ]
        }
      ]
    },
    {
      "cell_type": "markdown",
      "source": [
        "What is the total sum of Wine produced in 2015 and 2018 respectively?"
      ],
      "metadata": {
        "id": "-KF9g7liIaN1"
      }
    },
    {
      "cell_type": "code",
      "source": [
        "print(df.groupby('Item')['Y2015'].sum())"
      ],
      "metadata": {
        "colab": {
          "base_uri": "https://localhost:8080/"
        },
        "id": "z8ZTN6MRIqBq",
        "outputId": "dae71279-a277-476b-cc61-181260d22011"
      },
      "execution_count": 24,
      "outputs": [
        {
          "output_type": "stream",
          "name": "stdout",
          "text": [
            "Item\n",
            "Alcohol, Non-Food        2180.00\n",
            "Alcoholic Beverages     98783.72\n",
            "Animal Products         11811.73\n",
            "Animal fats            200675.72\n",
            "Apples and products     10559.15\n",
            "                         ...    \n",
            "Vegetables, Other      158104.08\n",
            "Vegetal Products       107064.17\n",
            "Wheat and products     234710.51\n",
            "Wine                     4251.81\n",
            "Yams                   203151.78\n",
            "Name: Y2015, Length: 119, dtype: float64\n"
          ]
        }
      ]
    },
    {
      "cell_type": "code",
      "source": [
        "print(df.groupby('Item')['Y2018'].sum())"
      ],
      "metadata": {
        "colab": {
          "base_uri": "https://localhost:8080/"
        },
        "id": "rq3uxgWJIUG2",
        "outputId": "1a99750f-2cf1-4544-c593-59a265389c4f"
      },
      "execution_count": 25,
      "outputs": [
        {
          "output_type": "stream",
          "name": "stdout",
          "text": [
            "Item\n",
            "Alcohol, Non-Food        2293.00\n",
            "Alcoholic Beverages     97847.27\n",
            "Animal Products         11578.61\n",
            "Animal fats            269648.27\n",
            "Apples and products      9640.51\n",
            "                         ...    \n",
            "Vegetables, Other      163987.21\n",
            "Vegetal Products       107775.39\n",
            "Wheat and products     242645.19\n",
            "Wine                     4039.32\n",
            "Yams                   221272.09\n",
            "Name: Y2018, Length: 119, dtype: float64\n"
          ]
        }
      ]
    },
    {
      "cell_type": "code",
      "source": [],
      "metadata": {
        "id": "fdiP8XTOJC1R"
      },
      "execution_count": null,
      "outputs": []
    },
    {
      "cell_type": "markdown",
      "source": [
        "Select columns ‘Y2017’ and ‘Area’, Perform a groupby operation on ‘Area’.  Which of these Areas had the highest sum in 2017?"
      ],
      "metadata": {
        "id": "wHnj_obmJR1O"
      }
    },
    {
      "cell_type": "code",
      "source": [
        "print(df.groupby('Area')['Y2017'].sum())"
      ],
      "metadata": {
        "colab": {
          "base_uri": "https://localhost:8080/"
        },
        "id": "ggdM1RgBJTmq",
        "outputId": "47482dcc-2669-454a-84f7-e606afa44ca9"
      },
      "execution_count": 26,
      "outputs": [
        {
          "output_type": "stream",
          "name": "stdout",
          "text": [
            "Area\n",
            "Algeria                         325644.27\n",
            "Angola                          229159.57\n",
            "Benin                           124771.22\n",
            "Botswana                         22101.30\n",
            "Burkina Faso                    101855.07\n",
            "Cabo Verde                       14650.74\n",
            "Cameroon                        232030.43\n",
            "Central African Republic         29937.00\n",
            "Chad                             71594.68\n",
            "Comoros                             59.84\n",
            "Congo                            41181.68\n",
            "Côte d'Ivoire                   224599.01\n",
            "Djibouti                         22729.91\n",
            "Egypt                           866379.92\n",
            "Eswatini                         54343.33\n",
            "Ethiopia                        448683.76\n",
            "Ethiopia PDR                         0.00\n",
            "Gabon                            27979.64\n",
            "Gambia                           23154.18\n",
            "Ghana                           337599.06\n",
            "Guinea                           98138.87\n",
            "Guinea-Bissau                    19102.77\n",
            "Kenya                           264660.66\n",
            "Lesotho                          21267.96\n",
            "Liberia                          29342.20\n",
            "Madagascar                      131197.73\n",
            "Malawi                          181098.71\n",
            "Mali                            149928.33\n",
            "Mauritania                      156665.46\n",
            "Mauritius                        51114.83\n",
            "Morocco                         388495.36\n",
            "Mozambique                      161407.98\n",
            "Namibia                          29874.89\n",
            "Niger                           126707.58\n",
            "Nigeria                        1483268.23\n",
            "Rwanda                           73663.69\n",
            "Sao Tome and Principe            12662.63\n",
            "Senegal                          95681.15\n",
            "Seychelles                         442.34\n",
            "Sierra Leone                     55311.33\n",
            "South Africa                    517590.54\n",
            "Sudan                           239931.92\n",
            "Sudan (former)                       0.00\n",
            "Togo                             49841.88\n",
            "Tunisia                         124167.20\n",
            "Uganda                          213950.38\n",
            "United Republic of Tanzania     322616.85\n",
            "Zambia                          103223.77\n",
            "Zimbabwe                         75919.34\n",
            "Name: Y2017, dtype: float64\n"
          ]
        }
      ]
    },
    {
      "cell_type": "code",
      "source": [],
      "metadata": {
        "id": "fNkjM6NuJdJu"
      },
      "execution_count": null,
      "outputs": []
    },
    {
      "cell_type": "markdown",
      "source": [
        "What is the total Protein supply quantity in Madagascar in 2015?"
      ],
      "metadata": {
        "id": "Ktb1hGXrJnhS"
      }
    },
    {
      "cell_type": "code",
      "source": [
        "print(df.groupby('Element')['Y2015'].sum())"
      ],
      "metadata": {
        "colab": {
          "base_uri": "https://localhost:8080/"
        },
        "id": "5UXJ6t14Jrjq",
        "outputId": "2aeb2706-d6a0-4af0-9154-01757497e39b"
      },
      "execution_count": 27,
      "outputs": [
        {
          "output_type": "stream",
          "name": "stdout",
          "text": [
            "Element\n",
            "Domestic supply quantity                  2021493.55\n",
            "Export Quantity                            157614.47\n",
            "Fat supply quantity (g/capita/day)          10235.74\n",
            "Feed                                       225050.22\n",
            "Food                                      1232361.10\n",
            "Food supply (kcal/capita/day)              453383.00\n",
            "Food supply quantity (kg/capita/yr)         49345.13\n",
            "Import Quantity                            267018.46\n",
            "Losses                                     155439.00\n",
            "Other uses (non-food)                       66254.41\n",
            "Processing                                 287929.00\n",
            "Production                                1947019.39\n",
            "Protein supply quantity (g/capita/day)      11833.95\n",
            "Residuals                                   30045.00\n",
            "Seed                                        23976.82\n",
            "Stock Variation                             34910.99\n",
            "Total Population - Both sexes             1058081.00\n",
            "Tourist consumption                           349.00\n",
            "Name: Y2015, dtype: float64\n"
          ]
        }
      ]
    },
    {
      "cell_type": "code",
      "source": [],
      "metadata": {
        "id": "sHLvMr_oKKNP"
      },
      "execution_count": null,
      "outputs": []
    },
    {
      "cell_type": "markdown",
      "source": [
        "What is the total number of unique countries in the dataset?"
      ],
      "metadata": {
        "id": "chZB9zm9Kpxl"
      }
    },
    {
      "cell_type": "code",
      "source": [
        "df['Area'].value_counts()"
      ],
      "metadata": {
        "colab": {
          "base_uri": "https://localhost:8080/"
        },
        "id": "aUWSoC2rKsnK",
        "outputId": "0b11195a-8f3e-46df-f594-4f6b0d5b8547"
      },
      "execution_count": 28,
      "outputs": [
        {
          "output_type": "execute_result",
          "data": {
            "text/plain": [
              "Kenya                          1560\n",
              "Egypt                          1488\n",
              "Nigeria                        1474\n",
              "Côte d'Ivoire                  1467\n",
              "Senegal                        1462\n",
              "Cameroon                       1460\n",
              "Uganda                         1458\n",
              "Zambia                         1451\n",
              "Malawi                         1447\n",
              "Ethiopia                       1447\n",
              "Madagascar                     1439\n",
              "Mozambique                     1427\n",
              "Rwanda                         1426\n",
              "Angola                         1424\n",
              "United Republic of Tanzania    1419\n",
              "Congo                          1413\n",
              "Guinea                         1410\n",
              "Burkina Faso                   1409\n",
              "Niger                          1403\n",
              "South Africa                   1399\n",
              "Zimbabwe                       1393\n",
              "Morocco                        1393\n",
              "Mauritius                      1378\n",
              "Botswana                       1378\n",
              "Ghana                          1354\n",
              "Central African Republic       1344\n",
              "Chad                           1343\n",
              "Tunisia                        1338\n",
              "Sudan                          1316\n",
              "Algeria                        1313\n",
              "Togo                           1294\n",
              "Mali                           1293\n",
              "Benin                          1285\n",
              "Eswatini                       1284\n",
              "Namibia                        1283\n",
              "Cabo Verde                     1260\n",
              "Gabon                          1245\n",
              "Sierra Leone                   1242\n",
              "Liberia                        1206\n",
              "Mauritania                     1195\n",
              "Sao Tome and Principe          1177\n",
              "Gambia                         1168\n",
              "Lesotho                        1150\n",
              "Guinea-Bissau                  1128\n",
              "Djibouti                       1095\n",
              "Seychelles                       68\n",
              "Sudan (former)                   53\n",
              "Comoros                          45\n",
              "Ethiopia PDR                     39\n",
              "Name: Area, dtype: int64"
            ]
          },
          "metadata": {},
          "execution_count": 28
        }
      ]
    },
    {
      "cell_type": "code",
      "source": [],
      "metadata": {
        "id": "IN-gNQRiLJMM"
      },
      "execution_count": null,
      "outputs": []
    },
    {
      "cell_type": "markdown",
      "source": [
        "What is the total number and percentage of missing data in 2014 to 3 decimal places?"
      ],
      "metadata": {
        "id": "VSugGRUuLiUF"
      }
    },
    {
      "cell_type": "code",
      "source": [
        "df['Y2014'].isna().sum()"
      ],
      "metadata": {
        "colab": {
          "base_uri": "https://localhost:8080/"
        },
        "id": "BrxcJWkaMNV9",
        "outputId": "bcb8974b-506b-4706-b488-6263d55bd732"
      },
      "execution_count": 30,
      "outputs": [
        {
          "output_type": "execute_result",
          "data": {
            "text/plain": [
              "1589"
            ]
          },
          "metadata": {},
          "execution_count": 30
        }
      ]
    },
    {
      "cell_type": "code",
      "source": [],
      "metadata": {
        "id": "pjHCPu-IMOSw"
      },
      "execution_count": null,
      "outputs": []
    }
  ]
}